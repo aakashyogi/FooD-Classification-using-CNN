{
  "nbformat": 4,
  "nbformat_minor": 0,
  "metadata": {
    "colab": {
      "name": "Food-101.ipynb",
      "provenance": [],
      "collapsed_sections": []
    },
    "kernelspec": {
      "name": "python3",
      "display_name": "Python 3"
    },
    "accelerator": "GPU"
  },
  "cells": [
    {
      "cell_type": "code",
      "metadata": {
        "id": "CrjA7mj7F5Nt",
        "colab_type": "code",
        "colab": {}
      },
      "source": [
        "import tensorflow as tf\n",
        "from tensorflow import keras\n",
        "from tensorflow.keras import layers"
      ],
      "execution_count": 1,
      "outputs": []
    },
    {
      "cell_type": "code",
      "metadata": {
        "id": "I5HGAAAHGONq",
        "colab_type": "code",
        "colab": {
          "base_uri": "https://localhost:8080/",
          "height": 68
        },
        "outputId": "7328c4a6-5e3a-4e42-e5e9-9d3cfa3e7721"
      },
      "source": [
        "!curl -O https://data.vision.ee.ethz.ch/cvl/food-101.tar.gz\n"
      ],
      "execution_count": 2,
      "outputs": [
        {
          "output_type": "stream",
          "text": [
            "  % Total    % Received % Xferd  Average Speed   Time    Time     Time  Current\n",
            "                                 Dload  Upload   Total   Spent    Left  Speed\n",
            "100 4764M  100 4764M    0     0  8625k      0  0:09:25  0:09:25 --:--:-- 8908k\n"
          ],
          "name": "stdout"
        }
      ]
    },
    {
      "cell_type": "code",
      "metadata": {
        "id": "HrdpmwjiKPEF",
        "colab_type": "code",
        "colab": {}
      },
      "source": [
        "#Read the dataset\n",
        "import tarfile\n",
        "dataset = tarfile.open('food-101.tar.gz')"
      ],
      "execution_count": 3,
      "outputs": []
    },
    {
      "cell_type": "code",
      "metadata": {
        "id": "8SMbvKnvKzUF",
        "colab_type": "code",
        "colab": {}
      },
      "source": [
        "#We will build a pandas dataset\n",
        "import pandas as pd\n",
        "df = pd.DataFrame(columns=['class','image_file'])"
      ],
      "execution_count": 4,
      "outputs": []
    },
    {
      "cell_type": "code",
      "metadata": {
        "id": "b2FJR9ZeK8IU",
        "colab_type": "code",
        "colab": {}
      },
      "source": [
        "#Run through tarfile members \n",
        "for name in dataset.getnames():\n",
        "    \n",
        "    tar_mem = dataset.getmember(name)\n",
        "    \n",
        "    #Check if it is a file\n",
        "    if(tar_mem.isfile() and name.endswith('.jpg')):\n",
        "        #Build directory and class info\n",
        "        im_dir = name[0:name.rfind('/')]\n",
        "        im_class = im_dir[im_dir.rfind('/')+1:]\n",
        "        #Add record to the dataframe\n",
        "        df.loc[df.shape[0]] = [im_class, name]"
      ],
      "execution_count": 5,
      "outputs": []
    },
    {
      "cell_type": "code",
      "metadata": {
        "id": "XK9RkWh4RNRM",
        "colab_type": "code",
        "colab": {}
      },
      "source": [
        "#extract data\n",
        "dataset.extractall(path='')"
      ],
      "execution_count": 6,
      "outputs": []
    },
    {
      "cell_type": "code",
      "metadata": {
        "id": "--7dFzOPR4bj",
        "colab_type": "code",
        "colab": {
          "base_uri": "https://localhost:8080/",
          "height": 1000
        },
        "outputId": "944fceaa-8599-409c-f458-0786b22e3e7f"
      },
      "source": [
        "!ls -l food-101/images"
      ],
      "execution_count": 8,
      "outputs": [
        {
          "output_type": "stream",
          "text": [
            "total 3616\n",
            "drwxr-xr-x 2 3156 320 36864 Sep 21  2013 apple_pie\n",
            "drwxr-xr-x 2 3156 320 36864 Sep 21  2013 baby_back_ribs\n",
            "drwxr-xr-x 2 3156 320 36864 Sep 21  2013 baklava\n",
            "drwxr-xr-x 2 3156 320 36864 Sep 21  2013 beef_carpaccio\n",
            "drwxr-xr-x 2 3156 320 36864 Sep 21  2013 beef_tartare\n",
            "drwxr-xr-x 2 3156 320 36864 Sep 21  2013 beet_salad\n",
            "drwxr-xr-x 2 3156 320 36864 Sep 21  2013 beignets\n",
            "drwxr-xr-x 2 3156 320 36864 Sep 21  2013 bibimbap\n",
            "drwxr-xr-x 2 3156 320 36864 Sep 21  2013 bread_pudding\n",
            "drwxr-xr-x 2 3156 320 36864 Sep 21  2013 breakfast_burrito\n",
            "drwxr-xr-x 2 3156 320 36864 Sep 21  2013 bruschetta\n",
            "drwxr-xr-x 2 3156 320 36864 Sep 21  2013 caesar_salad\n",
            "drwxr-xr-x 2 3156 320 36864 Sep 21  2013 cannoli\n",
            "drwxr-xr-x 2 3156 320 36864 Sep 21  2013 caprese_salad\n",
            "drwxr-xr-x 2 3156 320 36864 Sep 21  2013 carrot_cake\n",
            "drwxr-xr-x 2 3156 320 36864 Jul  9  2014 ceviche\n",
            "drwxr-xr-x 2 3156 320 36864 Sep 21  2013 cheesecake\n",
            "drwxr-xr-x 2 3156 320 36864 Sep 21  2013 cheese_plate\n",
            "drwxr-xr-x 2 3156 320 36864 Sep 21  2013 chicken_curry\n",
            "drwxr-xr-x 2 3156 320 36864 Sep 21  2013 chicken_quesadilla\n",
            "drwxr-xr-x 2 3156 320 36864 Sep 21  2013 chicken_wings\n",
            "drwxr-xr-x 2 3156 320 36864 Sep 21  2013 chocolate_cake\n",
            "drwxr-xr-x 2 3156 320 36864 Sep 21  2013 chocolate_mousse\n",
            "drwxr-xr-x 2 3156 320 36864 Feb  8  2014 churros\n",
            "drwxr-xr-x 2 3156 320 36864 Sep 21  2013 clam_chowder\n",
            "drwxr-xr-x 2 3156 320 36864 Sep 21  2013 club_sandwich\n",
            "drwxr-xr-x 2 3156 320 36864 Sep 21  2013 crab_cakes\n",
            "drwxr-xr-x 2 3156 320 36864 Feb 20  2014 creme_brulee\n",
            "drwxr-xr-x 2 3156 320 32768 Sep 21  2013 croque_madame\n",
            "drwxr-xr-x 2 3156 320 36864 Sep 21  2013 cup_cakes\n",
            "drwxr-xr-x 2 3156 320 36864 Sep 21  2013 deviled_eggs\n",
            "drwxr-xr-x 2 3156 320 36864 Sep 21  2013 donuts\n",
            "drwxr-xr-x 2 3156 320 36864 Sep 21  2013 dumplings\n",
            "drwxr-xr-x 2 3156 320 36864 Sep 21  2013 edamame\n",
            "drwxr-xr-x 2 3156 320 36864 Sep 21  2013 eggs_benedict\n",
            "drwxr-xr-x 2 3156 320 36864 Sep 21  2013 escargots\n",
            "drwxr-xr-x 2 3156 320 36864 Sep 21  2013 falafel\n",
            "drwxr-xr-x 2 3156 320 36864 Sep 21  2013 filet_mignon\n",
            "drwxr-xr-x 2 3156 320 36864 Sep 21  2013 fish_and_chips\n",
            "drwxr-xr-x 2 3156 320 36864 Sep 21  2013 foie_gras\n",
            "drwxr-xr-x 2 3156 320 36864 Sep 21  2013 french_fries\n",
            "drwxr-xr-x 2 3156 320 36864 Sep 21  2013 french_onion_soup\n",
            "drwxr-xr-x 2 3156 320 36864 Sep 21  2013 french_toast\n",
            "drwxr-xr-x 2 3156 320 36864 Oct  1  2013 fried_calamari\n",
            "drwxr-xr-x 2 3156 320 36864 Feb 20  2014 fried_rice\n",
            "drwxr-xr-x 2 3156 320 36864 Sep 21  2013 frozen_yogurt\n",
            "drwxr-xr-x 2 3156 320 36864 Sep 21  2013 garlic_bread\n",
            "drwxr-xr-x 2 3156 320 36864 Sep 21  2013 gnocchi\n",
            "drwxr-xr-x 2 3156 320 36864 Sep 21  2013 greek_salad\n",
            "drwxr-xr-x 2 3156 320 36864 Sep 21  2013 grilled_cheese_sandwich\n",
            "drwxr-xr-x 2 3156 320 36864 Sep 21  2013 grilled_salmon\n",
            "drwxr-xr-x 2 3156 320 36864 Sep 21  2013 guacamole\n",
            "drwxr-xr-x 2 3156 320 36864 Sep 21  2013 gyoza\n",
            "drwxr-xr-x 2 3156 320 36864 Sep 21  2013 hamburger\n",
            "drwxr-xr-x 2 3156 320 36864 Sep 21  2013 hot_and_sour_soup\n",
            "drwxr-xr-x 2 3156 320 36864 Sep 21  2013 hot_dog\n",
            "drwxr-xr-x 2 3156 320 36864 Sep 21  2013 huevos_rancheros\n",
            "drwxr-xr-x 2 3156 320 36864 Sep 21  2013 hummus\n",
            "drwxr-xr-x 2 3156 320 36864 Sep 21  2013 ice_cream\n",
            "drwxr-xr-x 2 3156 320 36864 Oct  1  2013 lasagna\n",
            "drwxr-xr-x 2 3156 320 36864 Sep 21  2013 lobster_bisque\n",
            "drwxr-xr-x 2 3156 320 36864 Sep 21  2013 lobster_roll_sandwich\n",
            "drwxr-xr-x 2 3156 320 36864 Sep 21  2013 macaroni_and_cheese\n",
            "drwxr-xr-x 2 3156 320 36864 Sep 21  2013 macarons\n",
            "drwxr-xr-x 2 3156 320 36864 Sep 21  2013 miso_soup\n",
            "drwxr-xr-x 2 3156 320 36864 Sep 21  2013 mussels\n",
            "drwxr-xr-x 2 3156 320 36864 Sep 21  2013 nachos\n",
            "drwxr-xr-x 2 3156 320 36864 Sep 21  2013 omelette\n",
            "drwxr-xr-x 2 3156 320 36864 Sep 21  2013 onion_rings\n",
            "drwxr-xr-x 2 3156 320 36864 Sep 21  2013 oysters\n",
            "drwxr-xr-x 2 3156 320 36864 Sep 21  2013 pad_thai\n",
            "drwxr-xr-x 2 3156 320 36864 Sep 21  2013 paella\n",
            "drwxr-xr-x 2 3156 320 36864 Sep 21  2013 pancakes\n",
            "drwxr-xr-x 2 3156 320 36864 Sep 21  2013 panna_cotta\n",
            "drwxr-xr-x 2 3156 320 36864 Sep 21  2013 peking_duck\n",
            "drwxr-xr-x 2 3156 320 36864 Sep 21  2013 pho\n",
            "drwxr-xr-x 2 3156 320 36864 Sep 21  2013 pizza\n",
            "drwxr-xr-x 2 3156 320 36864 Sep 21  2013 pork_chop\n",
            "drwxr-xr-x 2 3156 320 36864 Sep 21  2013 poutine\n",
            "drwxr-xr-x 2 3156 320 36864 Sep 21  2013 prime_rib\n",
            "drwxr-xr-x 2 3156 320 36864 Sep 21  2013 pulled_pork_sandwich\n",
            "drwxr-xr-x 2 3156 320 36864 Sep 21  2013 ramen\n",
            "drwxr-xr-x 2 3156 320 28672 Sep 21  2013 ravioli\n",
            "drwxr-xr-x 2 3156 320 36864 Sep 21  2013 red_velvet_cake\n",
            "drwxr-xr-x 2 3156 320 36864 Sep 21  2013 risotto\n",
            "drwxr-xr-x 2 3156 320 36864 Sep 21  2013 samosa\n",
            "drwxr-xr-x 2 3156 320 36864 Sep 21  2013 sashimi\n",
            "drwxr-xr-x 2 3156 320 36864 Sep 21  2013 scallops\n",
            "drwxr-xr-x 2 3156 320 36864 Sep 21  2013 seaweed_salad\n",
            "drwxr-xr-x 2 3156 320 36864 Sep 21  2013 shrimp_and_grits\n",
            "drwxr-xr-x 2 3156 320 36864 Sep 21  2013 spaghetti_bolognese\n",
            "drwxr-xr-x 2 3156 320 36864 Sep 21  2013 spaghetti_carbonara\n",
            "drwxr-xr-x 2 3156 320 36864 Sep 21  2013 spring_rolls\n",
            "drwxr-xr-x 2 3156 320 36864 Sep 21  2013 steak\n",
            "drwxr-xr-x 2 3156 320 28672 Sep 21  2013 strawberry_shortcake\n",
            "drwxr-xr-x 2 3156 320 36864 Sep 21  2013 sushi\n",
            "drwxr-xr-x 2 3156 320 36864 Sep 21  2013 tacos\n",
            "drwxr-xr-x 2 3156 320 36864 Sep 21  2013 takoyaki\n",
            "drwxr-xr-x 2 3156 320 36864 Sep 21  2013 tiramisu\n",
            "drwxr-xr-x 2 3156 320 36864 Sep 21  2013 tuna_tartare\n",
            "drwxr-xr-x 2 3156 320 36864 Sep 21  2013 waffles\n"
          ],
          "name": "stdout"
        }
      ]
    },
    {
      "cell_type": "code",
      "metadata": {
        "id": "I8sTBcXjST-c",
        "colab_type": "code",
        "colab": {}
      },
      "source": [
        "from sklearn.model_selection import train_test_split\n",
        "train_df, test_df = train_test_split(df, test_size=0.2, random_state=42)"
      ],
      "execution_count": 9,
      "outputs": []
    },
    {
      "cell_type": "code",
      "metadata": {
        "id": "4bW7HDGWSs12",
        "colab_type": "code",
        "colab": {}
      },
      "source": [
        "train_df.to_csv('food-101/images/train.csv',index=False)\n",
        "test_df.to_csv('food-101/images/test.csv', index=False)"
      ],
      "execution_count": 11,
      "outputs": []
    },
    {
      "cell_type": "code",
      "metadata": {
        "id": "oFyTbXeHTT7b",
        "colab_type": "code",
        "colab": {}
      },
      "source": [
        "#Read training and test Dataframe\n",
        "train_df = pd.read_csv('food-101/images/train.csv')\n",
        "test_df = pd.read_csv('food-101/images/test.csv')"
      ],
      "execution_count": 12,
      "outputs": []
    },
    {
      "cell_type": "code",
      "metadata": {
        "id": "egsEZb-GTrtQ",
        "colab_type": "code",
        "colab": {
          "base_uri": "https://localhost:8080/",
          "height": 204
        },
        "outputId": "3cfc977f-fab4-4067-9df5-7f211c2bfb20"
      },
      "source": [
        "#Check contents\n",
        "train_df.sample(n=5)"
      ],
      "execution_count": 13,
      "outputs": [
        {
          "output_type": "execute_result",
          "data": {
            "text/html": [
              "<div>\n",
              "<style scoped>\n",
              "    .dataframe tbody tr th:only-of-type {\n",
              "        vertical-align: middle;\n",
              "    }\n",
              "\n",
              "    .dataframe tbody tr th {\n",
              "        vertical-align: top;\n",
              "    }\n",
              "\n",
              "    .dataframe thead th {\n",
              "        text-align: right;\n",
              "    }\n",
              "</style>\n",
              "<table border=\"1\" class=\"dataframe\">\n",
              "  <thead>\n",
              "    <tr style=\"text-align: right;\">\n",
              "      <th></th>\n",
              "      <th>class</th>\n",
              "      <th>image_file</th>\n",
              "    </tr>\n",
              "  </thead>\n",
              "  <tbody>\n",
              "    <tr>\n",
              "      <th>58540</th>\n",
              "      <td>pad_thai</td>\n",
              "      <td>food-101/images/pad_thai/1375494.jpg</td>\n",
              "    </tr>\n",
              "    <tr>\n",
              "      <th>67303</th>\n",
              "      <td>croque_madame</td>\n",
              "      <td>food-101/images/croque_madame/2174524.jpg</td>\n",
              "    </tr>\n",
              "    <tr>\n",
              "      <th>27517</th>\n",
              "      <td>apple_pie</td>\n",
              "      <td>food-101/images/apple_pie/2517059.jpg</td>\n",
              "    </tr>\n",
              "    <tr>\n",
              "      <th>27282</th>\n",
              "      <td>guacamole</td>\n",
              "      <td>food-101/images/guacamole/3453560.jpg</td>\n",
              "    </tr>\n",
              "    <tr>\n",
              "      <th>60870</th>\n",
              "      <td>donuts</td>\n",
              "      <td>food-101/images/donuts/3420049.jpg</td>\n",
              "    </tr>\n",
              "  </tbody>\n",
              "</table>\n",
              "</div>"
            ],
            "text/plain": [
              "               class                                 image_file\n",
              "58540       pad_thai       food-101/images/pad_thai/1375494.jpg\n",
              "67303  croque_madame  food-101/images/croque_madame/2174524.jpg\n",
              "27517      apple_pie      food-101/images/apple_pie/2517059.jpg\n",
              "27282      guacamole      food-101/images/guacamole/3453560.jpg\n",
              "60870         donuts         food-101/images/donuts/3420049.jpg"
            ]
          },
          "metadata": {
            "tags": []
          },
          "execution_count": 13
        }
      ]
    },
    {
      "cell_type": "code",
      "metadata": {
        "id": "tIWFHaxYTt7g",
        "colab_type": "code",
        "colab": {
          "base_uri": "https://localhost:8080/",
          "height": 71
        },
        "outputId": "8b476d46-5198-49cf-ab60-bc3c7dee7be2"
      },
      "source": [
        "#Get class names\n",
        "class_names = train_df['class'].unique().tolist()\n",
        "print('Food classes: ', class_names)\n",
        "len(class_names)"
      ],
      "execution_count": 15,
      "outputs": [
        {
          "output_type": "stream",
          "text": [
            "Food classes:  ['dumplings', 'bruschetta', 'churros', 'croque_madame', 'spaghetti_carbonara', 'fried_calamari', 'bread_pudding', 'panna_cotta', 'frozen_yogurt', 'club_sandwich', 'filet_mignon', 'pho', 'chicken_curry', 'sushi', 'ravioli', 'donuts', 'beef_tartare', 'omelette', 'french_onion_soup', 'huevos_rancheros', 'french_fries', 'chocolate_mousse', 'pad_thai', 'beet_salad', 'caesar_salad', 'fish_and_chips', 'cup_cakes', 'breakfast_burrito', 'chicken_quesadilla', 'ramen', 'pulled_pork_sandwich', 'risotto', 'foie_gras', 'hummus', 'ceviche', 'crab_cakes', 'grilled_salmon', 'macaroni_and_cheese', 'carrot_cake', 'seaweed_salad', 'pork_chop', 'nachos', 'peking_duck', 'macarons', 'spaghetti_bolognese', 'tacos', 'samosa', 'caprese_salad', 'chicken_wings', 'paella', 'chocolate_cake', 'baby_back_ribs', 'cheesecake', 'miso_soup', 'onion_rings', 'red_velvet_cake', 'grilled_cheese_sandwich', 'escargots', 'pancakes', 'spring_rolls', 'apple_pie', 'lobster_roll_sandwich', 'baklava', 'french_toast', 'scallops', 'sashimi', 'ice_cream', 'hot_dog', 'hamburger', 'gnocchi', 'tiramisu', 'deviled_eggs', 'garlic_bread', 'strawberry_shortcake', 'fried_rice', 'lasagna', 'mussels', 'gyoza', 'guacamole', 'pizza', 'poutine', 'lobster_bisque', 'hot_and_sour_soup', 'edamame', 'oysters', 'prime_rib', 'falafel', 'takoyaki', 'greek_salad', 'beef_carpaccio', 'bibimbap', 'shrimp_and_grits', 'waffles', 'cannoli', 'clam_chowder', 'tuna_tartare', 'eggs_benedict', 'creme_brulee', 'beignets', 'cheese_plate', 'steak']\n"
          ],
          "name": "stdout"
        },
        {
          "output_type": "execute_result",
          "data": {
            "text/plain": [
              "101"
            ]
          },
          "metadata": {
            "tags": []
          },
          "execution_count": 15
        }
      ]
    },
    {
      "cell_type": "code",
      "metadata": {
        "id": "g2oBXUiQUTuV",
        "colab_type": "code",
        "colab": {}
      },
      "source": [
        "#Define some parameters\n",
        "img_size = 224\n",
        "img_depth = 3  "
      ],
      "execution_count": 17,
      "outputs": []
    },
    {
      "cell_type": "code",
      "metadata": {
        "id": "f5C2H8sVUgxl",
        "colab_type": "code",
        "colab": {}
      },
      "source": [
        "def normalize_data(img):\n",
        "    \n",
        "    #Normalize for ResNet50\n",
        "    return tf.keras.applications.resnet50.preprocess_input(img)"
      ],
      "execution_count": 19,
      "outputs": []
    },
    {
      "cell_type": "code",
      "metadata": {
        "id": "X32MmLppUi8e",
        "colab_type": "code",
        "colab": {}
      },
      "source": [
        "#Define Training Data Generator with augmentations\n",
        "train_datagen = tf.keras.preprocessing.image.ImageDataGenerator(rotation_range=20,\n",
        "                                                                width_shift_range=0.2,\n",
        "                                                                height_shift_range=0.2,\n",
        "                                                                horizontal_flip=True,\n",
        "                                                                preprocessing_function=normalize_data) #Normalize the data accordingly\n",
        "\n",
        "#Define Test Data Generator with NO augmentations\n",
        "test_datagen = tf.keras.preprocessing.image.ImageDataGenerator(preprocessing_function=normalize_data) #Normalize the data accordingly"
      ],
      "execution_count": 20,
      "outputs": []
    },
    {
      "cell_type": "code",
      "metadata": {
        "id": "6VXMuQ7cU3MU",
        "colab_type": "code",
        "colab": {
          "base_uri": "https://localhost:8080/",
          "height": 34
        },
        "outputId": "fc8c7575-bb41-4a94-ff9a-b656cfd46505"
      },
      "source": [
        "#Training (from dataframe)\n",
        "train_generator = train_datagen.flow_from_dataframe(train_df, \n",
        "                                                    x_col='image_file', #File path for image\n",
        "                                                    y_col='class',           #Class for the image\n",
        "                                                    target_size=(img_size, img_size), #Image resize dimensions\n",
        "                                                    batch_size=800)"
      ],
      "execution_count": 22,
      "outputs": [
        {
          "output_type": "stream",
          "text": [
            "Found 80800 validated image filenames belonging to 101 classes.\n"
          ],
          "name": "stdout"
        }
      ]
    },
    {
      "cell_type": "code",
      "metadata": {
        "id": "o43E8gqyVKNv",
        "colab_type": "code",
        "colab": {
          "base_uri": "https://localhost:8080/",
          "height": 34
        },
        "outputId": "6b245c18-674f-4147-d66e-d496b2db585f"
      },
      "source": [
        "#Test (from dataframe)\n",
        "test_generator = test_datagen.flow_from_dataframe(test_df,\n",
        "                                                  x_col='image_file', #File path for image\n",
        "                                                  y_col='class',           #Class for the image\n",
        "                                                  target_size=(img_size, img_size), #Image resize dimensions\n",
        "                                                  batch_size=800)"
      ],
      "execution_count": 23,
      "outputs": [
        {
          "output_type": "stream",
          "text": [
            "Found 20200 validated image filenames belonging to 101 classes.\n"
          ],
          "name": "stdout"
        }
      ]
    },
    {
      "cell_type": "code",
      "metadata": {
        "id": "itRjfgeDVRUY",
        "colab_type": "code",
        "colab": {
          "base_uri": "https://localhost:8080/",
          "height": 51
        },
        "outputId": "31ff800f-6081-4e3c-909f-6edca5a2ea9f"
      },
      "source": [
        "tf.keras.backend.clear_session()\n",
        "model = tf.keras.applications.ResNet50(include_top=False, #Do not include classification layer for imagenet\n",
        "                                       input_shape=(224,224,3),\n",
        "                                       weights='imagenet')"
      ],
      "execution_count": 24,
      "outputs": [
        {
          "output_type": "stream",
          "text": [
            "Downloading data from https://storage.googleapis.com/tensorflow/keras-applications/resnet/resnet50_weights_tf_dim_ordering_tf_kernels_notop.h5\n",
            "94773248/94765736 [==============================] - 3s 0us/step\n"
          ],
          "name": "stdout"
        }
      ]
    },
    {
      "cell_type": "code",
      "metadata": {
        "id": "4ThnLe8qVV_-",
        "colab_type": "code",
        "colab": {}
      },
      "source": [
        "#Set pre-trained model layers to not trainable\n",
        "for layer in model.layers:\n",
        "    layer.trainable = False"
      ],
      "execution_count": 28,
      "outputs": []
    },
    {
      "cell_type": "code",
      "metadata": {
        "id": "_e31wu-uVqfP",
        "colab_type": "code",
        "colab": {
          "base_uri": "https://localhost:8080/",
          "height": 34
        },
        "outputId": "e248e8ee-1d1d-41cd-8642-1620d44f915d"
      },
      "source": [
        "model.output"
      ],
      "execution_count": 30,
      "outputs": [
        {
          "output_type": "execute_result",
          "data": {
            "text/plain": [
              "<tf.Tensor 'conv5_block3_out/Relu:0' shape=(None, 7, 7, 2048) dtype=float32>"
            ]
          },
          "metadata": {
            "tags": []
          },
          "execution_count": 30
        }
      ]
    },
    {
      "cell_type": "code",
      "metadata": {
        "id": "_NUQVbRIV4BR",
        "colab_type": "code",
        "colab": {}
      },
      "source": [
        "#get Output layer of Pre0trained model\n",
        "x = model.output\n",
        "\n",
        "#Global average pool to reduce number of features and Flatten the output\n",
        "x = tf.keras.layers.GlobalAveragePooling2D()(x)"
      ],
      "execution_count": 31,
      "outputs": []
    },
    {
      "cell_type": "code",
      "metadata": {
        "id": "gTIl6Op-WD3j",
        "colab_type": "code",
        "colab": {
          "base_uri": "https://localhost:8080/",
          "height": 34
        },
        "outputId": "1deb3bc3-104f-499b-d95d-a53b747c5cd5"
      },
      "source": [
        "#Output shape of Global Average Pooling\n",
        "x"
      ],
      "execution_count": 32,
      "outputs": [
        {
          "output_type": "execute_result",
          "data": {
            "text/plain": [
              "<tf.Tensor 'global_average_pooling2d/Mean:0' shape=(None, 2048) dtype=float32>"
            ]
          },
          "metadata": {
            "tags": []
          },
          "execution_count": 32
        }
      ]
    },
    {
      "cell_type": "code",
      "metadata": {
        "id": "7VlWIZtRWK5O",
        "colab_type": "code",
        "colab": {}
      },
      "source": [
        "#Add output layer\n",
        "prediction = tf.keras.layers.Dense(len(class_names),activation='softmax')(x)"
      ],
      "execution_count": 33,
      "outputs": []
    },
    {
      "cell_type": "code",
      "metadata": {
        "id": "tVTcGZEUWakH",
        "colab_type": "code",
        "colab": {
          "base_uri": "https://localhost:8080/",
          "height": 34
        },
        "outputId": "e942590a-e71a-46f3-9a2b-3a4430b3a49d"
      },
      "source": [
        "prediction"
      ],
      "execution_count": 34,
      "outputs": [
        {
          "output_type": "execute_result",
          "data": {
            "text/plain": [
              "<tf.Tensor 'dense/Softmax:0' shape=(None, 101) dtype=float32>"
            ]
          },
          "metadata": {
            "tags": []
          },
          "execution_count": 34
        }
      ]
    },
    {
      "cell_type": "code",
      "metadata": {
        "id": "hfGzmOglWh0F",
        "colab_type": "code",
        "colab": {}
      },
      "source": [
        "#Using Keras Model class\n",
        "final_model = tf.keras.models.Model(inputs=model.input, #Pre-trained model input as input layer\n",
        "                                    outputs=prediction) #Output layer added"
      ],
      "execution_count": 35,
      "outputs": []
    },
    {
      "cell_type": "code",
      "metadata": {
        "id": "vFgNsRN6Woj0",
        "colab_type": "code",
        "colab": {}
      },
      "source": [
        "#Compile the model\n",
        "final_model.compile(optimizer='adam', loss='categorical_crossentropy', metrics=['accuracy'])"
      ],
      "execution_count": 36,
      "outputs": []
    },
    {
      "cell_type": "code",
      "metadata": {
        "id": "kelHawsXWqH0",
        "colab_type": "code",
        "colab": {
          "base_uri": "https://localhost:8080/",
          "height": 1000
        },
        "outputId": "f0289eb7-df5f-438c-a8ad-e2255ab2931b"
      },
      "source": [
        "#How does our overall model looks\n",
        "final_model.summary()"
      ],
      "execution_count": 37,
      "outputs": [
        {
          "output_type": "stream",
          "text": [
            "Model: \"functional_1\"\n",
            "__________________________________________________________________________________________________\n",
            "Layer (type)                    Output Shape         Param #     Connected to                     \n",
            "==================================================================================================\n",
            "input_1 (InputLayer)            [(None, 224, 224, 3) 0                                            \n",
            "__________________________________________________________________________________________________\n",
            "conv1_pad (ZeroPadding2D)       (None, 230, 230, 3)  0           input_1[0][0]                    \n",
            "__________________________________________________________________________________________________\n",
            "conv1_conv (Conv2D)             (None, 112, 112, 64) 9472        conv1_pad[0][0]                  \n",
            "__________________________________________________________________________________________________\n",
            "conv1_bn (BatchNormalization)   (None, 112, 112, 64) 256         conv1_conv[0][0]                 \n",
            "__________________________________________________________________________________________________\n",
            "conv1_relu (Activation)         (None, 112, 112, 64) 0           conv1_bn[0][0]                   \n",
            "__________________________________________________________________________________________________\n",
            "pool1_pad (ZeroPadding2D)       (None, 114, 114, 64) 0           conv1_relu[0][0]                 \n",
            "__________________________________________________________________________________________________\n",
            "pool1_pool (MaxPooling2D)       (None, 56, 56, 64)   0           pool1_pad[0][0]                  \n",
            "__________________________________________________________________________________________________\n",
            "conv2_block1_1_conv (Conv2D)    (None, 56, 56, 64)   4160        pool1_pool[0][0]                 \n",
            "__________________________________________________________________________________________________\n",
            "conv2_block1_1_bn (BatchNormali (None, 56, 56, 64)   256         conv2_block1_1_conv[0][0]        \n",
            "__________________________________________________________________________________________________\n",
            "conv2_block1_1_relu (Activation (None, 56, 56, 64)   0           conv2_block1_1_bn[0][0]          \n",
            "__________________________________________________________________________________________________\n",
            "conv2_block1_2_conv (Conv2D)    (None, 56, 56, 64)   36928       conv2_block1_1_relu[0][0]        \n",
            "__________________________________________________________________________________________________\n",
            "conv2_block1_2_bn (BatchNormali (None, 56, 56, 64)   256         conv2_block1_2_conv[0][0]        \n",
            "__________________________________________________________________________________________________\n",
            "conv2_block1_2_relu (Activation (None, 56, 56, 64)   0           conv2_block1_2_bn[0][0]          \n",
            "__________________________________________________________________________________________________\n",
            "conv2_block1_0_conv (Conv2D)    (None, 56, 56, 256)  16640       pool1_pool[0][0]                 \n",
            "__________________________________________________________________________________________________\n",
            "conv2_block1_3_conv (Conv2D)    (None, 56, 56, 256)  16640       conv2_block1_2_relu[0][0]        \n",
            "__________________________________________________________________________________________________\n",
            "conv2_block1_0_bn (BatchNormali (None, 56, 56, 256)  1024        conv2_block1_0_conv[0][0]        \n",
            "__________________________________________________________________________________________________\n",
            "conv2_block1_3_bn (BatchNormali (None, 56, 56, 256)  1024        conv2_block1_3_conv[0][0]        \n",
            "__________________________________________________________________________________________________\n",
            "conv2_block1_add (Add)          (None, 56, 56, 256)  0           conv2_block1_0_bn[0][0]          \n",
            "                                                                 conv2_block1_3_bn[0][0]          \n",
            "__________________________________________________________________________________________________\n",
            "conv2_block1_out (Activation)   (None, 56, 56, 256)  0           conv2_block1_add[0][0]           \n",
            "__________________________________________________________________________________________________\n",
            "conv2_block2_1_conv (Conv2D)    (None, 56, 56, 64)   16448       conv2_block1_out[0][0]           \n",
            "__________________________________________________________________________________________________\n",
            "conv2_block2_1_bn (BatchNormali (None, 56, 56, 64)   256         conv2_block2_1_conv[0][0]        \n",
            "__________________________________________________________________________________________________\n",
            "conv2_block2_1_relu (Activation (None, 56, 56, 64)   0           conv2_block2_1_bn[0][0]          \n",
            "__________________________________________________________________________________________________\n",
            "conv2_block2_2_conv (Conv2D)    (None, 56, 56, 64)   36928       conv2_block2_1_relu[0][0]        \n",
            "__________________________________________________________________________________________________\n",
            "conv2_block2_2_bn (BatchNormali (None, 56, 56, 64)   256         conv2_block2_2_conv[0][0]        \n",
            "__________________________________________________________________________________________________\n",
            "conv2_block2_2_relu (Activation (None, 56, 56, 64)   0           conv2_block2_2_bn[0][0]          \n",
            "__________________________________________________________________________________________________\n",
            "conv2_block2_3_conv (Conv2D)    (None, 56, 56, 256)  16640       conv2_block2_2_relu[0][0]        \n",
            "__________________________________________________________________________________________________\n",
            "conv2_block2_3_bn (BatchNormali (None, 56, 56, 256)  1024        conv2_block2_3_conv[0][0]        \n",
            "__________________________________________________________________________________________________\n",
            "conv2_block2_add (Add)          (None, 56, 56, 256)  0           conv2_block1_out[0][0]           \n",
            "                                                                 conv2_block2_3_bn[0][0]          \n",
            "__________________________________________________________________________________________________\n",
            "conv2_block2_out (Activation)   (None, 56, 56, 256)  0           conv2_block2_add[0][0]           \n",
            "__________________________________________________________________________________________________\n",
            "conv2_block3_1_conv (Conv2D)    (None, 56, 56, 64)   16448       conv2_block2_out[0][0]           \n",
            "__________________________________________________________________________________________________\n",
            "conv2_block3_1_bn (BatchNormali (None, 56, 56, 64)   256         conv2_block3_1_conv[0][0]        \n",
            "__________________________________________________________________________________________________\n",
            "conv2_block3_1_relu (Activation (None, 56, 56, 64)   0           conv2_block3_1_bn[0][0]          \n",
            "__________________________________________________________________________________________________\n",
            "conv2_block3_2_conv (Conv2D)    (None, 56, 56, 64)   36928       conv2_block3_1_relu[0][0]        \n",
            "__________________________________________________________________________________________________\n",
            "conv2_block3_2_bn (BatchNormali (None, 56, 56, 64)   256         conv2_block3_2_conv[0][0]        \n",
            "__________________________________________________________________________________________________\n",
            "conv2_block3_2_relu (Activation (None, 56, 56, 64)   0           conv2_block3_2_bn[0][0]          \n",
            "__________________________________________________________________________________________________\n",
            "conv2_block3_3_conv (Conv2D)    (None, 56, 56, 256)  16640       conv2_block3_2_relu[0][0]        \n",
            "__________________________________________________________________________________________________\n",
            "conv2_block3_3_bn (BatchNormali (None, 56, 56, 256)  1024        conv2_block3_3_conv[0][0]        \n",
            "__________________________________________________________________________________________________\n",
            "conv2_block3_add (Add)          (None, 56, 56, 256)  0           conv2_block2_out[0][0]           \n",
            "                                                                 conv2_block3_3_bn[0][0]          \n",
            "__________________________________________________________________________________________________\n",
            "conv2_block3_out (Activation)   (None, 56, 56, 256)  0           conv2_block3_add[0][0]           \n",
            "__________________________________________________________________________________________________\n",
            "conv3_block1_1_conv (Conv2D)    (None, 28, 28, 128)  32896       conv2_block3_out[0][0]           \n",
            "__________________________________________________________________________________________________\n",
            "conv3_block1_1_bn (BatchNormali (None, 28, 28, 128)  512         conv3_block1_1_conv[0][0]        \n",
            "__________________________________________________________________________________________________\n",
            "conv3_block1_1_relu (Activation (None, 28, 28, 128)  0           conv3_block1_1_bn[0][0]          \n",
            "__________________________________________________________________________________________________\n",
            "conv3_block1_2_conv (Conv2D)    (None, 28, 28, 128)  147584      conv3_block1_1_relu[0][0]        \n",
            "__________________________________________________________________________________________________\n",
            "conv3_block1_2_bn (BatchNormali (None, 28, 28, 128)  512         conv3_block1_2_conv[0][0]        \n",
            "__________________________________________________________________________________________________\n",
            "conv3_block1_2_relu (Activation (None, 28, 28, 128)  0           conv3_block1_2_bn[0][0]          \n",
            "__________________________________________________________________________________________________\n",
            "conv3_block1_0_conv (Conv2D)    (None, 28, 28, 512)  131584      conv2_block3_out[0][0]           \n",
            "__________________________________________________________________________________________________\n",
            "conv3_block1_3_conv (Conv2D)    (None, 28, 28, 512)  66048       conv3_block1_2_relu[0][0]        \n",
            "__________________________________________________________________________________________________\n",
            "conv3_block1_0_bn (BatchNormali (None, 28, 28, 512)  2048        conv3_block1_0_conv[0][0]        \n",
            "__________________________________________________________________________________________________\n",
            "conv3_block1_3_bn (BatchNormali (None, 28, 28, 512)  2048        conv3_block1_3_conv[0][0]        \n",
            "__________________________________________________________________________________________________\n",
            "conv3_block1_add (Add)          (None, 28, 28, 512)  0           conv3_block1_0_bn[0][0]          \n",
            "                                                                 conv3_block1_3_bn[0][0]          \n",
            "__________________________________________________________________________________________________\n",
            "conv3_block1_out (Activation)   (None, 28, 28, 512)  0           conv3_block1_add[0][0]           \n",
            "__________________________________________________________________________________________________\n",
            "conv3_block2_1_conv (Conv2D)    (None, 28, 28, 128)  65664       conv3_block1_out[0][0]           \n",
            "__________________________________________________________________________________________________\n",
            "conv3_block2_1_bn (BatchNormali (None, 28, 28, 128)  512         conv3_block2_1_conv[0][0]        \n",
            "__________________________________________________________________________________________________\n",
            "conv3_block2_1_relu (Activation (None, 28, 28, 128)  0           conv3_block2_1_bn[0][0]          \n",
            "__________________________________________________________________________________________________\n",
            "conv3_block2_2_conv (Conv2D)    (None, 28, 28, 128)  147584      conv3_block2_1_relu[0][0]        \n",
            "__________________________________________________________________________________________________\n",
            "conv3_block2_2_bn (BatchNormali (None, 28, 28, 128)  512         conv3_block2_2_conv[0][0]        \n",
            "__________________________________________________________________________________________________\n",
            "conv3_block2_2_relu (Activation (None, 28, 28, 128)  0           conv3_block2_2_bn[0][0]          \n",
            "__________________________________________________________________________________________________\n",
            "conv3_block2_3_conv (Conv2D)    (None, 28, 28, 512)  66048       conv3_block2_2_relu[0][0]        \n",
            "__________________________________________________________________________________________________\n",
            "conv3_block2_3_bn (BatchNormali (None, 28, 28, 512)  2048        conv3_block2_3_conv[0][0]        \n",
            "__________________________________________________________________________________________________\n",
            "conv3_block2_add (Add)          (None, 28, 28, 512)  0           conv3_block1_out[0][0]           \n",
            "                                                                 conv3_block2_3_bn[0][0]          \n",
            "__________________________________________________________________________________________________\n",
            "conv3_block2_out (Activation)   (None, 28, 28, 512)  0           conv3_block2_add[0][0]           \n",
            "__________________________________________________________________________________________________\n",
            "conv3_block3_1_conv (Conv2D)    (None, 28, 28, 128)  65664       conv3_block2_out[0][0]           \n",
            "__________________________________________________________________________________________________\n",
            "conv3_block3_1_bn (BatchNormali (None, 28, 28, 128)  512         conv3_block3_1_conv[0][0]        \n",
            "__________________________________________________________________________________________________\n",
            "conv3_block3_1_relu (Activation (None, 28, 28, 128)  0           conv3_block3_1_bn[0][0]          \n",
            "__________________________________________________________________________________________________\n",
            "conv3_block3_2_conv (Conv2D)    (None, 28, 28, 128)  147584      conv3_block3_1_relu[0][0]        \n",
            "__________________________________________________________________________________________________\n",
            "conv3_block3_2_bn (BatchNormali (None, 28, 28, 128)  512         conv3_block3_2_conv[0][0]        \n",
            "__________________________________________________________________________________________________\n",
            "conv3_block3_2_relu (Activation (None, 28, 28, 128)  0           conv3_block3_2_bn[0][0]          \n",
            "__________________________________________________________________________________________________\n",
            "conv3_block3_3_conv (Conv2D)    (None, 28, 28, 512)  66048       conv3_block3_2_relu[0][0]        \n",
            "__________________________________________________________________________________________________\n",
            "conv3_block3_3_bn (BatchNormali (None, 28, 28, 512)  2048        conv3_block3_3_conv[0][0]        \n",
            "__________________________________________________________________________________________________\n",
            "conv3_block3_add (Add)          (None, 28, 28, 512)  0           conv3_block2_out[0][0]           \n",
            "                                                                 conv3_block3_3_bn[0][0]          \n",
            "__________________________________________________________________________________________________\n",
            "conv3_block3_out (Activation)   (None, 28, 28, 512)  0           conv3_block3_add[0][0]           \n",
            "__________________________________________________________________________________________________\n",
            "conv3_block4_1_conv (Conv2D)    (None, 28, 28, 128)  65664       conv3_block3_out[0][0]           \n",
            "__________________________________________________________________________________________________\n",
            "conv3_block4_1_bn (BatchNormali (None, 28, 28, 128)  512         conv3_block4_1_conv[0][0]        \n",
            "__________________________________________________________________________________________________\n",
            "conv3_block4_1_relu (Activation (None, 28, 28, 128)  0           conv3_block4_1_bn[0][0]          \n",
            "__________________________________________________________________________________________________\n",
            "conv3_block4_2_conv (Conv2D)    (None, 28, 28, 128)  147584      conv3_block4_1_relu[0][0]        \n",
            "__________________________________________________________________________________________________\n",
            "conv3_block4_2_bn (BatchNormali (None, 28, 28, 128)  512         conv3_block4_2_conv[0][0]        \n",
            "__________________________________________________________________________________________________\n",
            "conv3_block4_2_relu (Activation (None, 28, 28, 128)  0           conv3_block4_2_bn[0][0]          \n",
            "__________________________________________________________________________________________________\n",
            "conv3_block4_3_conv (Conv2D)    (None, 28, 28, 512)  66048       conv3_block4_2_relu[0][0]        \n",
            "__________________________________________________________________________________________________\n",
            "conv3_block4_3_bn (BatchNormali (None, 28, 28, 512)  2048        conv3_block4_3_conv[0][0]        \n",
            "__________________________________________________________________________________________________\n",
            "conv3_block4_add (Add)          (None, 28, 28, 512)  0           conv3_block3_out[0][0]           \n",
            "                                                                 conv3_block4_3_bn[0][0]          \n",
            "__________________________________________________________________________________________________\n",
            "conv3_block4_out (Activation)   (None, 28, 28, 512)  0           conv3_block4_add[0][0]           \n",
            "__________________________________________________________________________________________________\n",
            "conv4_block1_1_conv (Conv2D)    (None, 14, 14, 256)  131328      conv3_block4_out[0][0]           \n",
            "__________________________________________________________________________________________________\n",
            "conv4_block1_1_bn (BatchNormali (None, 14, 14, 256)  1024        conv4_block1_1_conv[0][0]        \n",
            "__________________________________________________________________________________________________\n",
            "conv4_block1_1_relu (Activation (None, 14, 14, 256)  0           conv4_block1_1_bn[0][0]          \n",
            "__________________________________________________________________________________________________\n",
            "conv4_block1_2_conv (Conv2D)    (None, 14, 14, 256)  590080      conv4_block1_1_relu[0][0]        \n",
            "__________________________________________________________________________________________________\n",
            "conv4_block1_2_bn (BatchNormali (None, 14, 14, 256)  1024        conv4_block1_2_conv[0][0]        \n",
            "__________________________________________________________________________________________________\n",
            "conv4_block1_2_relu (Activation (None, 14, 14, 256)  0           conv4_block1_2_bn[0][0]          \n",
            "__________________________________________________________________________________________________\n",
            "conv4_block1_0_conv (Conv2D)    (None, 14, 14, 1024) 525312      conv3_block4_out[0][0]           \n",
            "__________________________________________________________________________________________________\n",
            "conv4_block1_3_conv (Conv2D)    (None, 14, 14, 1024) 263168      conv4_block1_2_relu[0][0]        \n",
            "__________________________________________________________________________________________________\n",
            "conv4_block1_0_bn (BatchNormali (None, 14, 14, 1024) 4096        conv4_block1_0_conv[0][0]        \n",
            "__________________________________________________________________________________________________\n",
            "conv4_block1_3_bn (BatchNormali (None, 14, 14, 1024) 4096        conv4_block1_3_conv[0][0]        \n",
            "__________________________________________________________________________________________________\n",
            "conv4_block1_add (Add)          (None, 14, 14, 1024) 0           conv4_block1_0_bn[0][0]          \n",
            "                                                                 conv4_block1_3_bn[0][0]          \n",
            "__________________________________________________________________________________________________\n",
            "conv4_block1_out (Activation)   (None, 14, 14, 1024) 0           conv4_block1_add[0][0]           \n",
            "__________________________________________________________________________________________________\n",
            "conv4_block2_1_conv (Conv2D)    (None, 14, 14, 256)  262400      conv4_block1_out[0][0]           \n",
            "__________________________________________________________________________________________________\n",
            "conv4_block2_1_bn (BatchNormali (None, 14, 14, 256)  1024        conv4_block2_1_conv[0][0]        \n",
            "__________________________________________________________________________________________________\n",
            "conv4_block2_1_relu (Activation (None, 14, 14, 256)  0           conv4_block2_1_bn[0][0]          \n",
            "__________________________________________________________________________________________________\n",
            "conv4_block2_2_conv (Conv2D)    (None, 14, 14, 256)  590080      conv4_block2_1_relu[0][0]        \n",
            "__________________________________________________________________________________________________\n",
            "conv4_block2_2_bn (BatchNormali (None, 14, 14, 256)  1024        conv4_block2_2_conv[0][0]        \n",
            "__________________________________________________________________________________________________\n",
            "conv4_block2_2_relu (Activation (None, 14, 14, 256)  0           conv4_block2_2_bn[0][0]          \n",
            "__________________________________________________________________________________________________\n",
            "conv4_block2_3_conv (Conv2D)    (None, 14, 14, 1024) 263168      conv4_block2_2_relu[0][0]        \n",
            "__________________________________________________________________________________________________\n",
            "conv4_block2_3_bn (BatchNormali (None, 14, 14, 1024) 4096        conv4_block2_3_conv[0][0]        \n",
            "__________________________________________________________________________________________________\n",
            "conv4_block2_add (Add)          (None, 14, 14, 1024) 0           conv4_block1_out[0][0]           \n",
            "                                                                 conv4_block2_3_bn[0][0]          \n",
            "__________________________________________________________________________________________________\n",
            "conv4_block2_out (Activation)   (None, 14, 14, 1024) 0           conv4_block2_add[0][0]           \n",
            "__________________________________________________________________________________________________\n",
            "conv4_block3_1_conv (Conv2D)    (None, 14, 14, 256)  262400      conv4_block2_out[0][0]           \n",
            "__________________________________________________________________________________________________\n",
            "conv4_block3_1_bn (BatchNormali (None, 14, 14, 256)  1024        conv4_block3_1_conv[0][0]        \n",
            "__________________________________________________________________________________________________\n",
            "conv4_block3_1_relu (Activation (None, 14, 14, 256)  0           conv4_block3_1_bn[0][0]          \n",
            "__________________________________________________________________________________________________\n",
            "conv4_block3_2_conv (Conv2D)    (None, 14, 14, 256)  590080      conv4_block3_1_relu[0][0]        \n",
            "__________________________________________________________________________________________________\n",
            "conv4_block3_2_bn (BatchNormali (None, 14, 14, 256)  1024        conv4_block3_2_conv[0][0]        \n",
            "__________________________________________________________________________________________________\n",
            "conv4_block3_2_relu (Activation (None, 14, 14, 256)  0           conv4_block3_2_bn[0][0]          \n",
            "__________________________________________________________________________________________________\n",
            "conv4_block3_3_conv (Conv2D)    (None, 14, 14, 1024) 263168      conv4_block3_2_relu[0][0]        \n",
            "__________________________________________________________________________________________________\n",
            "conv4_block3_3_bn (BatchNormali (None, 14, 14, 1024) 4096        conv4_block3_3_conv[0][0]        \n",
            "__________________________________________________________________________________________________\n",
            "conv4_block3_add (Add)          (None, 14, 14, 1024) 0           conv4_block2_out[0][0]           \n",
            "                                                                 conv4_block3_3_bn[0][0]          \n",
            "__________________________________________________________________________________________________\n",
            "conv4_block3_out (Activation)   (None, 14, 14, 1024) 0           conv4_block3_add[0][0]           \n",
            "__________________________________________________________________________________________________\n",
            "conv4_block4_1_conv (Conv2D)    (None, 14, 14, 256)  262400      conv4_block3_out[0][0]           \n",
            "__________________________________________________________________________________________________\n",
            "conv4_block4_1_bn (BatchNormali (None, 14, 14, 256)  1024        conv4_block4_1_conv[0][0]        \n",
            "__________________________________________________________________________________________________\n",
            "conv4_block4_1_relu (Activation (None, 14, 14, 256)  0           conv4_block4_1_bn[0][0]          \n",
            "__________________________________________________________________________________________________\n",
            "conv4_block4_2_conv (Conv2D)    (None, 14, 14, 256)  590080      conv4_block4_1_relu[0][0]        \n",
            "__________________________________________________________________________________________________\n",
            "conv4_block4_2_bn (BatchNormali (None, 14, 14, 256)  1024        conv4_block4_2_conv[0][0]        \n",
            "__________________________________________________________________________________________________\n",
            "conv4_block4_2_relu (Activation (None, 14, 14, 256)  0           conv4_block4_2_bn[0][0]          \n",
            "__________________________________________________________________________________________________\n",
            "conv4_block4_3_conv (Conv2D)    (None, 14, 14, 1024) 263168      conv4_block4_2_relu[0][0]        \n",
            "__________________________________________________________________________________________________\n",
            "conv4_block4_3_bn (BatchNormali (None, 14, 14, 1024) 4096        conv4_block4_3_conv[0][0]        \n",
            "__________________________________________________________________________________________________\n",
            "conv4_block4_add (Add)          (None, 14, 14, 1024) 0           conv4_block3_out[0][0]           \n",
            "                                                                 conv4_block4_3_bn[0][0]          \n",
            "__________________________________________________________________________________________________\n",
            "conv4_block4_out (Activation)   (None, 14, 14, 1024) 0           conv4_block4_add[0][0]           \n",
            "__________________________________________________________________________________________________\n",
            "conv4_block5_1_conv (Conv2D)    (None, 14, 14, 256)  262400      conv4_block4_out[0][0]           \n",
            "__________________________________________________________________________________________________\n",
            "conv4_block5_1_bn (BatchNormali (None, 14, 14, 256)  1024        conv4_block5_1_conv[0][0]        \n",
            "__________________________________________________________________________________________________\n",
            "conv4_block5_1_relu (Activation (None, 14, 14, 256)  0           conv4_block5_1_bn[0][0]          \n",
            "__________________________________________________________________________________________________\n",
            "conv4_block5_2_conv (Conv2D)    (None, 14, 14, 256)  590080      conv4_block5_1_relu[0][0]        \n",
            "__________________________________________________________________________________________________\n",
            "conv4_block5_2_bn (BatchNormali (None, 14, 14, 256)  1024        conv4_block5_2_conv[0][0]        \n",
            "__________________________________________________________________________________________________\n",
            "conv4_block5_2_relu (Activation (None, 14, 14, 256)  0           conv4_block5_2_bn[0][0]          \n",
            "__________________________________________________________________________________________________\n",
            "conv4_block5_3_conv (Conv2D)    (None, 14, 14, 1024) 263168      conv4_block5_2_relu[0][0]        \n",
            "__________________________________________________________________________________________________\n",
            "conv4_block5_3_bn (BatchNormali (None, 14, 14, 1024) 4096        conv4_block5_3_conv[0][0]        \n",
            "__________________________________________________________________________________________________\n",
            "conv4_block5_add (Add)          (None, 14, 14, 1024) 0           conv4_block4_out[0][0]           \n",
            "                                                                 conv4_block5_3_bn[0][0]          \n",
            "__________________________________________________________________________________________________\n",
            "conv4_block5_out (Activation)   (None, 14, 14, 1024) 0           conv4_block5_add[0][0]           \n",
            "__________________________________________________________________________________________________\n",
            "conv4_block6_1_conv (Conv2D)    (None, 14, 14, 256)  262400      conv4_block5_out[0][0]           \n",
            "__________________________________________________________________________________________________\n",
            "conv4_block6_1_bn (BatchNormali (None, 14, 14, 256)  1024        conv4_block6_1_conv[0][0]        \n",
            "__________________________________________________________________________________________________\n",
            "conv4_block6_1_relu (Activation (None, 14, 14, 256)  0           conv4_block6_1_bn[0][0]          \n",
            "__________________________________________________________________________________________________\n",
            "conv4_block6_2_conv (Conv2D)    (None, 14, 14, 256)  590080      conv4_block6_1_relu[0][0]        \n",
            "__________________________________________________________________________________________________\n",
            "conv4_block6_2_bn (BatchNormali (None, 14, 14, 256)  1024        conv4_block6_2_conv[0][0]        \n",
            "__________________________________________________________________________________________________\n",
            "conv4_block6_2_relu (Activation (None, 14, 14, 256)  0           conv4_block6_2_bn[0][0]          \n",
            "__________________________________________________________________________________________________\n",
            "conv4_block6_3_conv (Conv2D)    (None, 14, 14, 1024) 263168      conv4_block6_2_relu[0][0]        \n",
            "__________________________________________________________________________________________________\n",
            "conv4_block6_3_bn (BatchNormali (None, 14, 14, 1024) 4096        conv4_block6_3_conv[0][0]        \n",
            "__________________________________________________________________________________________________\n",
            "conv4_block6_add (Add)          (None, 14, 14, 1024) 0           conv4_block5_out[0][0]           \n",
            "                                                                 conv4_block6_3_bn[0][0]          \n",
            "__________________________________________________________________________________________________\n",
            "conv4_block6_out (Activation)   (None, 14, 14, 1024) 0           conv4_block6_add[0][0]           \n",
            "__________________________________________________________________________________________________\n",
            "conv5_block1_1_conv (Conv2D)    (None, 7, 7, 512)    524800      conv4_block6_out[0][0]           \n",
            "__________________________________________________________________________________________________\n",
            "conv5_block1_1_bn (BatchNormali (None, 7, 7, 512)    2048        conv5_block1_1_conv[0][0]        \n",
            "__________________________________________________________________________________________________\n",
            "conv5_block1_1_relu (Activation (None, 7, 7, 512)    0           conv5_block1_1_bn[0][0]          \n",
            "__________________________________________________________________________________________________\n",
            "conv5_block1_2_conv (Conv2D)    (None, 7, 7, 512)    2359808     conv5_block1_1_relu[0][0]        \n",
            "__________________________________________________________________________________________________\n",
            "conv5_block1_2_bn (BatchNormali (None, 7, 7, 512)    2048        conv5_block1_2_conv[0][0]        \n",
            "__________________________________________________________________________________________________\n",
            "conv5_block1_2_relu (Activation (None, 7, 7, 512)    0           conv5_block1_2_bn[0][0]          \n",
            "__________________________________________________________________________________________________\n",
            "conv5_block1_0_conv (Conv2D)    (None, 7, 7, 2048)   2099200     conv4_block6_out[0][0]           \n",
            "__________________________________________________________________________________________________\n",
            "conv5_block1_3_conv (Conv2D)    (None, 7, 7, 2048)   1050624     conv5_block1_2_relu[0][0]        \n",
            "__________________________________________________________________________________________________\n",
            "conv5_block1_0_bn (BatchNormali (None, 7, 7, 2048)   8192        conv5_block1_0_conv[0][0]        \n",
            "__________________________________________________________________________________________________\n",
            "conv5_block1_3_bn (BatchNormali (None, 7, 7, 2048)   8192        conv5_block1_3_conv[0][0]        \n",
            "__________________________________________________________________________________________________\n",
            "conv5_block1_add (Add)          (None, 7, 7, 2048)   0           conv5_block1_0_bn[0][0]          \n",
            "                                                                 conv5_block1_3_bn[0][0]          \n",
            "__________________________________________________________________________________________________\n",
            "conv5_block1_out (Activation)   (None, 7, 7, 2048)   0           conv5_block1_add[0][0]           \n",
            "__________________________________________________________________________________________________\n",
            "conv5_block2_1_conv (Conv2D)    (None, 7, 7, 512)    1049088     conv5_block1_out[0][0]           \n",
            "__________________________________________________________________________________________________\n",
            "conv5_block2_1_bn (BatchNormali (None, 7, 7, 512)    2048        conv5_block2_1_conv[0][0]        \n",
            "__________________________________________________________________________________________________\n",
            "conv5_block2_1_relu (Activation (None, 7, 7, 512)    0           conv5_block2_1_bn[0][0]          \n",
            "__________________________________________________________________________________________________\n",
            "conv5_block2_2_conv (Conv2D)    (None, 7, 7, 512)    2359808     conv5_block2_1_relu[0][0]        \n",
            "__________________________________________________________________________________________________\n",
            "conv5_block2_2_bn (BatchNormali (None, 7, 7, 512)    2048        conv5_block2_2_conv[0][0]        \n",
            "__________________________________________________________________________________________________\n",
            "conv5_block2_2_relu (Activation (None, 7, 7, 512)    0           conv5_block2_2_bn[0][0]          \n",
            "__________________________________________________________________________________________________\n",
            "conv5_block2_3_conv (Conv2D)    (None, 7, 7, 2048)   1050624     conv5_block2_2_relu[0][0]        \n",
            "__________________________________________________________________________________________________\n",
            "conv5_block2_3_bn (BatchNormali (None, 7, 7, 2048)   8192        conv5_block2_3_conv[0][0]        \n",
            "__________________________________________________________________________________________________\n",
            "conv5_block2_add (Add)          (None, 7, 7, 2048)   0           conv5_block1_out[0][0]           \n",
            "                                                                 conv5_block2_3_bn[0][0]          \n",
            "__________________________________________________________________________________________________\n",
            "conv5_block2_out (Activation)   (None, 7, 7, 2048)   0           conv5_block2_add[0][0]           \n",
            "__________________________________________________________________________________________________\n",
            "conv5_block3_1_conv (Conv2D)    (None, 7, 7, 512)    1049088     conv5_block2_out[0][0]           \n",
            "__________________________________________________________________________________________________\n",
            "conv5_block3_1_bn (BatchNormali (None, 7, 7, 512)    2048        conv5_block3_1_conv[0][0]        \n",
            "__________________________________________________________________________________________________\n",
            "conv5_block3_1_relu (Activation (None, 7, 7, 512)    0           conv5_block3_1_bn[0][0]          \n",
            "__________________________________________________________________________________________________\n",
            "conv5_block3_2_conv (Conv2D)    (None, 7, 7, 512)    2359808     conv5_block3_1_relu[0][0]        \n",
            "__________________________________________________________________________________________________\n",
            "conv5_block3_2_bn (BatchNormali (None, 7, 7, 512)    2048        conv5_block3_2_conv[0][0]        \n",
            "__________________________________________________________________________________________________\n",
            "conv5_block3_2_relu (Activation (None, 7, 7, 512)    0           conv5_block3_2_bn[0][0]          \n",
            "__________________________________________________________________________________________________\n",
            "conv5_block3_3_conv (Conv2D)    (None, 7, 7, 2048)   1050624     conv5_block3_2_relu[0][0]        \n",
            "__________________________________________________________________________________________________\n",
            "conv5_block3_3_bn (BatchNormali (None, 7, 7, 2048)   8192        conv5_block3_3_conv[0][0]        \n",
            "__________________________________________________________________________________________________\n",
            "conv5_block3_add (Add)          (None, 7, 7, 2048)   0           conv5_block2_out[0][0]           \n",
            "                                                                 conv5_block3_3_bn[0][0]          \n",
            "__________________________________________________________________________________________________\n",
            "conv5_block3_out (Activation)   (None, 7, 7, 2048)   0           conv5_block3_add[0][0]           \n",
            "__________________________________________________________________________________________________\n",
            "global_average_pooling2d (Globa (None, 2048)         0           conv5_block3_out[0][0]           \n",
            "__________________________________________________________________________________________________\n",
            "dense (Dense)                   (None, 101)          206949      global_average_pooling2d[0][0]   \n",
            "==================================================================================================\n",
            "Total params: 23,794,661\n",
            "Trainable params: 206,949\n",
            "Non-trainable params: 23,587,712\n",
            "__________________________________________________________________________________________________\n"
          ],
          "name": "stdout"
        }
      ]
    },
    {
      "cell_type": "code",
      "metadata": {
        "id": "0TlySL4LW1f6",
        "colab_type": "code",
        "colab": {}
      },
      "source": [
        "#Saving the best model using model checkpoint callback\n",
        "model_checkpoint=tf.keras.callbacks.ModelCheckpoint('food_resnet.h5', # adreess or location will also work here\n",
        "                                                    save_best_only=True, \n",
        "                                                    monitor='val_accuracy', \n",
        "                                                    mode='max', \n",
        "                                                    verbose=1)"
      ],
      "execution_count": 38,
      "outputs": []
    },
    {
      "cell_type": "code",
      "metadata": {
        "id": "jPMxNxVwW-9Y",
        "colab_type": "code",
        "colab": {
          "base_uri": "https://localhost:8080/",
          "height": 122
        },
        "outputId": "1593bbaf-f65b-43b0-c097-7f738c587121"
      },
      "source": [
        "final_model.fit_generator(train_generator, \n",
        "                          epochs=1,\n",
        "                          steps_per_epoch= 80800//5050, # len(training_size/batch size)\n",
        "                          validation_data=test_generator,\n",
        "                          validation_steps = 20200//5050, \n",
        "                          callbacks=[model_checkpoint])"
      ],
      "execution_count": 42,
      "outputs": [
        {
          "output_type": "stream",
          "text": [
            "16/16 [==============================] - ETA: 0s - loss: 1.8624 - accuracy: 0.5364 WARNING:tensorflow:Your input ran out of data; interrupting training. Make sure that your dataset or generator can generate at least `steps_per_epoch * epochs` batches (in this case, 252 batches). You may need to use the repeat() function when building your dataset.\n",
            "\n",
            "Epoch 00001: val_accuracy improved from -inf to 0.54010, saving model to food_resnet.h5\n",
            "16/16 [==============================] - 333s 21s/step - loss: 1.8624 - accuracy: 0.5364 - val_loss: 1.8185 - val_accuracy: 0.5401\n"
          ],
          "name": "stdout"
        },
        {
          "output_type": "execute_result",
          "data": {
            "text/plain": [
              "<tensorflow.python.keras.callbacks.History at 0x7fa2a2251ba8>"
            ]
          },
          "metadata": {
            "tags": []
          },
          "execution_count": 42
        }
      ]
    },
    {
      "cell_type": "code",
      "metadata": {
        "id": "VfWNzmjTfURC",
        "colab_type": "code",
        "colab": {
          "base_uri": "https://localhost:8080/",
          "height": 187
        },
        "outputId": "605d919a-cb1b-422a-d283-78ea7c1006ed"
      },
      "source": [
        "#Lets train for 3 more steps\n",
        "final_model.fit_generator(train_generator, \n",
        "                          epochs=5,\n",
        "                          initial_epoch=1,\n",
        "                          steps_per_epoch= 80800//5050,\n",
        "                          validation_data=test_generator,\n",
        "                          validation_steps = 20200//5050, \n",
        "                          callbacks=[model_checkpoint])"
      ],
      "execution_count": null,
      "outputs": [
        {
          "output_type": "stream",
          "text": [
            "Epoch 2/5\n",
            "16/16 [==============================] - ETA: 0s - loss: 1.7968 - accuracy: 0.5508 \n",
            "Epoch 00002: val_accuracy improved from 0.54010 to 0.54625, saving model to food_resnet.h5\n",
            "16/16 [==============================] - 242s 15s/step - loss: 1.7968 - accuracy: 0.5508 - val_loss: 1.7902 - val_accuracy: 0.5462\n",
            "Epoch 3/5\n",
            "16/16 [==============================] - ETA: 0s - loss: 1.7678 - accuracy: 0.5601 \n",
            "Epoch 00003: val_accuracy improved from 0.54625 to 0.55250, saving model to food_resnet.h5\n",
            "16/16 [==============================] - 235s 15s/step - loss: 1.7678 - accuracy: 0.5601 - val_loss: 1.7680 - val_accuracy: 0.5525\n",
            "Epoch 4/5\n",
            "16/16 [==============================] - ETA: 0s - loss: 1.7279 - accuracy: 0.5688 "
          ],
          "name": "stdout"
        }
      ]
    },
    {
      "cell_type": "code",
      "metadata": {
        "id": "Gm2f9lZUiPOo",
        "colab_type": "code",
        "colab": {}
      },
      "source": [
        "final_model.save('mymodel.h5')"
      ],
      "execution_count": null,
      "outputs": []
    },
    {
      "cell_type": "code",
      "metadata": {
        "id": "o6D7QqEoiRDO",
        "colab_type": "code",
        "colab": {}
      },
      "source": [
        "model = tf.keras.models.load_model('mymodel.h5')"
      ],
      "execution_count": null,
      "outputs": []
    }
  ]
}